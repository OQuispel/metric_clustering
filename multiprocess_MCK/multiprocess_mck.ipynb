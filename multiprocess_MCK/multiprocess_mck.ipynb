{
 "cells": [
  {
   "cell_type": "markdown",
   "metadata": {},
   "source": [
    "# Run MultiProcessing"
   ]
  },
  {
   "cell_type": "code",
   "execution_count": 41,
   "metadata": {},
   "outputs": [],
   "source": [
    "import multiprocessing\n",
    "import subprocess\n",
    "from function import run_slice\n",
    "import timeit"
   ]
  },
  {
   "cell_type": "code",
   "execution_count": 47,
   "metadata": {},
   "outputs": [
    {
     "name": "stdout",
     "output_type": "stream",
     "text": [
      "10\n"
     ]
    }
   ],
   "source": [
    "start = timeit.default_timer()\n",
    "\n",
    "#Your statements here\n",
    "print(5+5)\n",
    "stop = timeit.default_timer()\n"
   ]
  },
  {
   "cell_type": "code",
   "execution_count": 49,
   "metadata": {},
   "outputs": [
    {
     "name": "stdout",
     "output_type": "stream",
     "text": [
      "Time:  54.150805799999944\n"
     ]
    }
   ],
   "source": [
    "start = timeit.default_timer()\n",
    "\n",
    "pool = multiprocessing.Pool(4)\n",
    "pool.starmap(run_slice, zip(['C:\\LUMOS\\MCK\\kappaslice1.csl', 'C:\\LUMOS\\MCK\\kappaslice2.csl', 'C:\\LUMOS\\MCK\\kappaslice3.csl', 'C:\\LUMOS\\MCK\\kappaslice4.csl'] \\\n",
    "                            , ['C:\\LUMOS\\MCK\\log1.log', 'C:\\LUMOS\\MCK\\log2.log', 'C:\\LUMOS\\MCK\\log3.log', 'C:\\LUMOS\\MCK\\log4.log']))\n",
    "pool.close()\n",
    "pool.join()\n",
    "\n",
    "stop = timeit.default_timer()\n",
    "print('Time: ', stop - start) "
   ]
  },
  {
   "cell_type": "code",
   "execution_count": null,
   "metadata": {},
   "outputs": [],
   "source": []
  }
 ],
 "metadata": {
  "kernelspec": {
   "display_name": "Python 3",
   "language": "python",
   "name": "python3"
  },
  "language_info": {
   "codemirror_mode": {
    "name": "ipython",
    "version": 3
   },
   "file_extension": ".py",
   "mimetype": "text/x-python",
   "name": "python",
   "nbconvert_exporter": "python",
   "pygments_lexer": "ipython3",
   "version": "3.7.3"
  }
 },
 "nbformat": 4,
 "nbformat_minor": 4
}
