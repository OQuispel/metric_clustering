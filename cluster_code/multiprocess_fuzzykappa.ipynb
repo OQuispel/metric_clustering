{
 "cells": [
  {
   "cell_type": "code",
   "execution_count": 1,
   "metadata": {
    "execution": {
     "iopub.execute_input": "2020-10-17T09:28:13.842060Z",
     "iopub.status.busy": "2020-10-17T09:28:13.842060Z",
     "iopub.status.idle": "2020-10-17T09:28:14.336171Z",
     "shell.execute_reply": "2020-10-17T09:28:14.336171Z",
     "shell.execute_reply.started": "2020-10-17T09:28:13.842060Z"
    }
   },
   "outputs": [],
   "source": [
    "from multiprocessing import Pool\n",
    "from function import *\n",
    "import tqdm"
   ]
  },
  {
   "cell_type": "markdown",
   "metadata": {},
   "source": [
    "# Run Fuzzy Kappa"
   ]
  },
  {
   "cell_type": "code",
   "execution_count": 2,
   "metadata": {
    "execution": {
     "iopub.execute_input": "2020-10-17T09:28:14.522213Z",
     "iopub.status.busy": "2020-10-17T09:28:14.522213Z",
     "iopub.status.idle": "2020-10-17T09:47:28.354070Z",
     "shell.execute_reply": "2020-10-17T09:47:28.354070Z",
     "shell.execute_reply.started": "2020-10-17T09:28:14.522213Z"
    }
   },
   "outputs": [
    {
     "name": "stderr",
     "output_type": "stream",
     "text": [
      "100%|████████████████████████████████████████████████████████████████████████████████| 190/190 [19:13<00:00,  6.07s/it]\n"
     ]
    }
   ],
   "source": [
    "kfuzzy = []\n",
    "kfuzzy_maps1 = []\n",
    "kfuzzy_maps2 = []\n",
    "\n",
    "with Pool(16) as pool:\n",
    "    iterable =  [(i, 'kfuzzy') for i in range(multi_its)]\n",
    "    for n1, n2, sts in tqdm.tqdm(pool.istarmap(run_comparisons, iterable),\n",
    "                       total=len(iterable)):\n",
    "        kfuzzy_maps1.append(n1)\n",
    "        kfuzzy_maps2.append(n2)\n",
    "        kfuzzy.append(sts) \n",
    "#store output to disk       \n",
    "multi_df(kfuzzy_maps1, kfuzzy_maps2, kfuzzy, 'kfuzzy')"
   ]
  },
  {
   "cell_type": "code",
   "execution_count": null,
   "metadata": {},
   "outputs": [],
   "source": []
  }
 ],
 "metadata": {
  "kernelspec": {
   "display_name": "Python 3",
   "language": "python",
   "name": "python3"
  },
  "language_info": {
   "codemirror_mode": {
    "name": "ipython",
    "version": 3
   },
   "file_extension": ".py",
   "mimetype": "text/x-python",
   "name": "python",
   "nbconvert_exporter": "python",
   "pygments_lexer": "ipython3",
   "version": "3.7.3"
  }
 },
 "nbformat": 4,
 "nbformat_minor": 4
}
