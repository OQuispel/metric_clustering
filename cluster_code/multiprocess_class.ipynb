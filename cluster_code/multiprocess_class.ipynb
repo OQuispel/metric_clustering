{
 "cells": [
  {
   "cell_type": "code",
   "execution_count": 4,
   "metadata": {
    "execution": {
     "iopub.execute_input": "2020-10-21T09:39:20.285306Z",
     "iopub.status.busy": "2020-10-21T09:39:20.285306Z",
     "iopub.status.idle": "2020-10-21T09:39:20.296309Z",
     "shell.execute_reply": "2020-10-21T09:39:20.296309Z",
     "shell.execute_reply.started": "2020-10-21T09:39:20.285306Z"
    }
   },
   "outputs": [],
   "source": [
    "from multiprocessing import Pool\n",
    "import tqdm\n",
    "from function_pontius import *"
   ]
  },
  {
   "cell_type": "markdown",
   "metadata": {},
   "source": [
    "## Catergorical metrics calculated for landuse class 'Nature' in this notebook:\n",
    "1. Percentage of Landscape (PLAND)\n",
    "2. Total Class Area (TCA)\n",
    "\n",
    "The other categorical metric 'Total Quantity Difference' for Nature is calculated in a different notebook as it is calculated between pairs of maps instead of as a unique value per map"
   ]
  },
  {
   "cell_type": "code",
   "execution_count": 5,
   "metadata": {
    "execution": {
     "iopub.execute_input": "2020-10-21T09:40:43.347789Z",
     "iopub.status.busy": "2020-10-21T09:40:43.347789Z",
     "iopub.status.idle": "2020-10-21T09:43:19.683958Z",
     "shell.execute_reply": "2020-10-21T09:43:19.682958Z",
     "shell.execute_reply.started": "2020-10-21T09:40:43.347789Z"
    }
   },
   "outputs": [
    {
     "name": "stderr",
     "output_type": "stream",
     "text": [
      "100%|██████████████████████████████████████████████████████████████████████████████████| 50/50 [02:35<00:00,  3.12s/it]\n"
     ]
    }
   ],
   "source": [
    "# Assign focal land use class here; defaults to 'Nature' (class_id=22)\n",
    "class_id = 22\n",
    "\n",
    "pland = []\n",
    "tca = []\n",
    "#number of parallel processes to run\n",
    "num_workers = 12\n",
    "\n",
    "with Pool(num_workers) as p:\n",
    "    iterable =  [(i, class_id) for i in range(single_its)]\n",
    "    for pl1, pl2, tca1, tca2 in tqdm.tqdm(p.istarmap(calc_classes, iterable),\n",
    "                       total=len(iterable)):\n",
    "\n",
    "        pland.append(pl1)\n",
    "        pland.append(pl2)\n",
    "        tca.append(tca1)\n",
    "        tca.append(tca2)\n",
    "        \n",
    "#store output to disk\n",
    "class_name = '[class ' + str(class_id) + ']'\n",
    "single_df(maps, pland, 'PLAND' + class_name)\n",
    "single_df(maps, tca, 'Total Class Area' + class_name)"
   ]
  },
  {
   "cell_type": "code",
   "execution_count": null,
   "metadata": {},
   "outputs": [],
   "source": []
  }
 ],
 "metadata": {
  "kernelspec": {
   "display_name": "Python 3",
   "language": "python",
   "name": "python3"
  },
  "language_info": {
   "codemirror_mode": {
    "name": "ipython",
    "version": 3
   },
   "file_extension": ".py",
   "mimetype": "text/x-python",
   "name": "python",
   "nbconvert_exporter": "python",
   "pygments_lexer": "ipython3",
   "version": "3.7.3"
  }
 },
 "nbformat": 4,
 "nbformat_minor": 4
}
