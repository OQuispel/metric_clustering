{
 "cells": [
  {
   "cell_type": "code",
   "execution_count": 1,
   "metadata": {
    "execution": {
     "iopub.execute_input": "2020-10-21T11:48:53.975411Z",
     "iopub.status.busy": "2020-10-21T11:48:53.975411Z",
     "iopub.status.idle": "2020-10-21T11:48:54.969638Z",
     "shell.execute_reply": "2020-10-21T11:48:54.969638Z",
     "shell.execute_reply.started": "2020-10-21T11:48:53.975411Z"
    }
   },
   "outputs": [],
   "source": [
    "from multiprocessing import Pool\n",
    "import tqdm\n",
    "from function_pontius import *"
   ]
  },
  {
   "cell_type": "markdown",
   "metadata": {
    "execution": {
     "iopub.execute_input": "2020-10-21T10:57:41.974506Z",
     "iopub.status.busy": "2020-10-21T10:57:41.974506Z",
     "iopub.status.idle": "2020-10-21T10:57:41.988510Z",
     "shell.execute_reply": "2020-10-21T10:57:41.987509Z",
     "shell.execute_reply.started": "2020-10-21T10:57:41.974506Z"
    }
   },
   "source": [
    "## Pontius metrics in this notebook:\n",
    "1. Overall Difference (OD)\n",
    "1. Overal Quantity Component (OQC)\n",
    "1. Overall Allocation Component (OAC)\n",
    "1. Overal Quantity Disagreement 'Nature' (OQD_n) --> Note that this is a categorical metric calculation\n",
    "\n",
    "Using the contingency table from the previous metrics this notebook also calculates:\n",
    "1. Overall Accuracy (OA)"
   ]
  },
  {
   "cell_type": "code",
   "execution_count": 2,
   "metadata": {
    "execution": {
     "iopub.execute_input": "2020-10-21T11:48:54.970638Z",
     "iopub.status.busy": "2020-10-21T11:48:54.970638Z",
     "iopub.status.idle": "2020-10-21T11:49:29.315958Z",
     "shell.execute_reply": "2020-10-21T11:49:29.315958Z",
     "shell.execute_reply.started": "2020-10-21T11:48:54.970638Z"
    }
   },
   "outputs": [
    {
     "name": "stderr",
     "output_type": "stream",
     "text": [
      "100%|██████████████████████████████████████████████████████████████████████████████████| 10/10 [00:34<00:00,  3.43s/it]\n"
     ]
    }
   ],
   "source": [
    "# Assign focal land use class used for OQD_n; defaults to 'Nature' (class_id=22)\n",
    "class_id = 22\n",
    "\n",
    "# Lists to store the map and metric return values\n",
    "maps1 = []\n",
    "maps2 = []\n",
    "oa = []\n",
    "od = []\n",
    "oqd = []\n",
    "oad = []\n",
    "oqd_n = []\n",
    "\n",
    "#number of workers to use\n",
    "num_workers = 12\n",
    "\n",
    "with Pool(num_workers) as p:\n",
    "    iterable =  [(i, class_id) for i in range(multi_its)]\n",
    "    for n1, n2, acc, diff, qd, ad, qd_n in tqdm.tqdm(p.istarmap(calc_multi, iterable),\n",
    "                       total=len(iterable)):\n",
    "        maps1.append(n1)\n",
    "        maps2.append(n2)\n",
    "        oa.append(acc)\n",
    "        od.append(diff)\n",
    "        oqd.append(qd)\n",
    "        oad.append(ad)\n",
    "        oqd_n.append(qd_n)"
   ]
  },
  {
   "cell_type": "code",
   "execution_count": null,
   "metadata": {},
   "outputs": [],
   "source": [
    "multi_df(maps1, maps2, oa, 'overallaccuracy')"
   ]
  },
  {
   "cell_type": "code",
   "execution_count": null,
   "metadata": {},
   "outputs": [],
   "source": [
    "multi_df(maps1, maps2, od, 'overalldifference')"
   ]
  },
  {
   "cell_type": "code",
   "execution_count": null,
   "metadata": {},
   "outputs": [],
   "source": [
    "multi_df(maps1, maps2, oqd, 'overallquantitydifference')"
   ]
  },
  {
   "cell_type": "code",
   "execution_count": null,
   "metadata": {},
   "outputs": [],
   "source": [
    "multi_df(maps1, maps2, oad, 'overallallocationdifference')"
   ]
  },
  {
   "cell_type": "code",
   "execution_count": null,
   "metadata": {},
   "outputs": [],
   "source": [
    "df_id = 'quantitydifferencecategorical_' + str(class_id)\n",
    "multi_df(maps1, maps2, oqd_n, df_id)"
   ]
  },
  {
   "cell_type": "code",
   "execution_count": 4,
   "metadata": {
    "execution": {
     "iopub.execute_input": "2020-10-21T11:49:50.144881Z",
     "iopub.status.busy": "2020-10-21T11:49:50.144881Z",
     "iopub.status.idle": "2020-10-21T11:49:50.200894Z",
     "shell.execute_reply": "2020-10-21T11:49:50.200894Z",
     "shell.execute_reply.started": "2020-10-21T11:49:50.144881Z"
    }
   },
   "outputs": [],
   "source": [
    "multi_df(maps1, maps2, oa, 'overallaccuracy')\n",
    "multi_df(maps1, maps2, od, 'overalldifference')\n",
    "multi_df(maps1, maps2, oqd, 'overallquantitydifference')\n",
    "multi_df(maps1, maps2, oad, 'overallallocationdifference')\n",
    "#Change used name based on the landuse class analyzed\n",
    "df_id = 'quantitydifferencecategorical_' + str(class_id)\n",
    "multi_df(maps1, maps2, oqd_n, df_id)"
   ]
  },
  {
   "cell_type": "code",
   "execution_count": null,
   "metadata": {},
   "outputs": [],
   "source": []
  }
 ],
 "metadata": {
  "kernelspec": {
   "display_name": "Python 3",
   "language": "python",
   "name": "python3"
  },
  "language_info": {
   "codemirror_mode": {
    "name": "ipython",
    "version": 3
   },
   "file_extension": ".py",
   "mimetype": "text/x-python",
   "name": "python",
   "nbconvert_exporter": "python",
   "pygments_lexer": "ipython3",
   "version": "3.7.3"
  }
 },
 "nbformat": 4,
 "nbformat_minor": 4
}
