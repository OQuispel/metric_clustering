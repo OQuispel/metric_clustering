{
 "cells": [
  {
   "cell_type": "code",
   "execution_count": 1,
   "metadata": {
    "execution": {
     "iopub.execute_input": "2020-10-17T09:26:32.531126Z",
     "iopub.status.busy": "2020-10-17T09:26:32.530124Z",
     "iopub.status.idle": "2020-10-17T09:26:33.020226Z",
     "shell.execute_reply": "2020-10-17T09:26:33.020226Z",
     "shell.execute_reply.started": "2020-10-17T09:26:32.531126Z"
    }
   },
   "outputs": [],
   "source": [
    "from multiprocessing import Pool\n",
    "from function import *\n",
    "import tqdm"
   ]
  },
  {
   "cell_type": "markdown",
   "metadata": {},
   "source": [
    "# Run Simpson's Diversity Index"
   ]
  },
  {
   "cell_type": "code",
   "execution_count": 2,
   "metadata": {
    "execution": {
     "iopub.execute_input": "2020-10-17T09:26:34.113986Z",
     "iopub.status.busy": "2020-10-17T09:26:34.113986Z",
     "iopub.status.idle": "2020-10-17T09:26:54.026724Z",
     "shell.execute_reply": "2020-10-17T09:26:54.026724Z",
     "shell.execute_reply.started": "2020-10-17T09:26:34.113986Z"
    }
   },
   "outputs": [
    {
     "name": "stderr",
     "output_type": "stream",
     "text": [
      "100%|██████████████████████████████████████████████████████████████████████████████████| 10/10 [00:19<00:00,  1.97s/it]\n"
     ]
    }
   ],
   "source": [
    "simp = []\n",
    "simp_maps1 = []\n",
    "simp_maps2 = []\n",
    "\n",
    "with Pool(16) as pool:\n",
    "    iterable =  [(i, 'simp') for i in range(single_its)]\n",
    "    for n1, n2, sts, sts2 in tqdm.tqdm(pool.istarmap(run_comparisons, iterable),\n",
    "                       total=len(iterable)):\n",
    "        simp_maps1.append(n1)\n",
    "        simp_maps2.append(n2)\n",
    "        simp.append(sts)\n",
    "        if simp_maps1 !=  simp_maps2:\n",
    "            simp.append(sts2)\n",
    "            \n",
    "#store output to disk \n",
    "single_df(map_set, simp, 'simp')"
   ]
  },
  {
   "cell_type": "code",
   "execution_count": null,
   "metadata": {},
   "outputs": [],
   "source": []
  }
 ],
 "metadata": {
  "kernelspec": {
   "display_name": "Python 3",
   "language": "python",
   "name": "python3"
  },
  "language_info": {
   "codemirror_mode": {
    "name": "ipython",
    "version": 3
   },
   "file_extension": ".py",
   "mimetype": "text/x-python",
   "name": "python",
   "nbconvert_exporter": "python",
   "pygments_lexer": "ipython3",
   "version": "3.7.3"
  }
 },
 "nbformat": 4,
 "nbformat_minor": 4
}
