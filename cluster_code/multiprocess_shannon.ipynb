{
 "cells": [
  {
   "cell_type": "code",
   "execution_count": 1,
   "metadata": {
    "execution": {
     "iopub.execute_input": "2020-10-17T09:24:30.978519Z",
     "iopub.status.busy": "2020-10-17T09:24:30.978519Z",
     "iopub.status.idle": "2020-10-17T09:24:31.476630Z",
     "shell.execute_reply": "2020-10-17T09:24:31.476630Z",
     "shell.execute_reply.started": "2020-10-17T09:24:30.978519Z"
    }
   },
   "outputs": [],
   "source": [
    "from multiprocessing import Pool\n",
    "from function import *\n",
    "import tqdm"
   ]
  },
  {
   "cell_type": "markdown",
   "metadata": {},
   "source": [
    "# Run Shannon's Diversity Index"
   ]
  },
  {
   "cell_type": "code",
   "execution_count": 2,
   "metadata": {
    "execution": {
     "iopub.execute_input": "2020-10-17T09:24:33.970872Z",
     "iopub.status.busy": "2020-10-17T09:24:33.969872Z",
     "iopub.status.idle": "2020-10-17T09:24:54.237688Z",
     "shell.execute_reply": "2020-10-17T09:24:54.237688Z",
     "shell.execute_reply.started": "2020-10-17T09:24:33.969872Z"
    }
   },
   "outputs": [
    {
     "name": "stderr",
     "output_type": "stream",
     "text": [
      "100%|██████████████████████████████████████████████████████████████████████████████████| 10/10 [00:20<00:00,  2.01s/it]\n"
     ]
    }
   ],
   "source": [
    "shan = []\n",
    "shan_maps1 = []\n",
    "shan_maps2 = []\n",
    "\n",
    "with Pool(16) as pool:\n",
    "    iterable =  [(i, 'shan') for i in range(single_its)]\n",
    "    for n1, n2, sts, sts2 in tqdm.tqdm(pool.istarmap(run_comparisons, iterable),\n",
    "                       total=len(iterable)):\n",
    "        shan_maps1.append(n1)\n",
    "        shan_maps2.append(n2)\n",
    "        shan.append(sts)\n",
    "        if shan_maps1 !=  shan_maps2:\n",
    "            shan.append(sts2)\n",
    "            \n",
    "#store output to disk \n",
    "single_df(map_set, shan, 'shannon')"
   ]
  },
  {
   "cell_type": "code",
   "execution_count": null,
   "metadata": {},
   "outputs": [],
   "source": []
  }
 ],
 "metadata": {
  "kernelspec": {
   "display_name": "Python 3",
   "language": "python",
   "name": "python3"
  },
  "language_info": {
   "codemirror_mode": {
    "name": "ipython",
    "version": 3
   },
   "file_extension": ".py",
   "mimetype": "text/x-python",
   "name": "python",
   "nbconvert_exporter": "python",
   "pygments_lexer": "ipython3",
   "version": "3.7.3"
  }
 },
 "nbformat": 4,
 "nbformat_minor": 4
}
