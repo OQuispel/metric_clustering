{
 "cells": [
  {
   "cell_type": "code",
   "execution_count": 1,
   "metadata": {},
   "outputs": [],
   "source": [
    "import numpy as np"
   ]
  },
  {
   "cell_type": "code",
   "execution_count": 2,
   "metadata": {},
   "outputs": [],
   "source": [
    "def numpy2asc(ndarray, filename, savedir, xll, yll, cs, ndv, nan2num=False, delimiter=' '):\n",
    "    #from https://stackoverflow.com/questions/24691755/how-to-format-in-numpy-savetxt-such-that-zeros-are-saved-only-as-0\n",
    "    with open(savedir+filename, 'w') as fh:\n",
    "        \n",
    "        #write header\n",
    "        nrows, ncols = ndarray.shape\n",
    "        header='\\n'.join([\"ncols \" + str(ncols), \n",
    "                      \"nrows \" + str(nrows), \n",
    "                      'xllcorner ' + str(xll), \n",
    "                      'yllcorner ' + str(yll),\n",
    "                      'cellsize ' + str(cs),\n",
    "                      'NODATA_value ' + str(ndv),\n",
    "                        ''])\n",
    "        fh.write(header)\n",
    "        \n",
    "        #write each row in ndarray\n",
    "        fmt=\"%.6e\"\n",
    "        fmti=\"%i\"\n",
    "        for row in ndarray:\n",
    "            if nan2num:\n",
    "                row[np.isnan(row)] = ndv\n",
    "            line = delimiter.join(str(fmti % value) if value % 1 == 0 else str(fmt % value) for value in row)\n",
    "            fh.write(line + '\\n')"
   ]
  },
  {
   "cell_type": "code",
   "execution_count": 4,
   "metadata": {},
   "outputs": [],
   "source": [
    "for i in range(100):\n",
    "    dataname = 'C:/LUMOS/MCK/csvmaps/' + 'map500exp_' + str(i) + '.csv'\n",
    "    data = np.genfromtxt(dataname, delimiter=',')\n",
    "    filename = 'map' + str(i) +'.asc'\n",
    "    numpy2asc(data, filename, \"C:/LUMOS/MCK/ascmaps/\", 10000.000000, 300000.000000, 100.000000, -32768 )   "
   ]
  }
 ],
 "metadata": {
  "kernelspec": {
   "display_name": "Python 3",
   "language": "python",
   "name": "python3"
  },
  "language_info": {
   "codemirror_mode": {
    "name": "ipython",
    "version": 3
   },
   "file_extension": ".py",
   "mimetype": "text/x-python",
   "name": "python",
   "nbconvert_exporter": "python",
   "pygments_lexer": "ipython3",
   "version": "3.7.3"
  }
 },
 "nbformat": 4,
 "nbformat_minor": 2
}
