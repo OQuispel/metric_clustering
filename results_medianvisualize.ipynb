{
 "cells": [
  {
   "cell_type": "code",
   "execution_count": 1,
   "metadata": {
    "execution": {
     "iopub.execute_input": "2020-11-27T17:32:34.324636Z",
     "iopub.status.busy": "2020-11-27T17:32:34.324636Z",
     "iopub.status.idle": "2020-11-27T17:32:35.561573Z",
     "shell.execute_reply": "2020-11-27T17:32:35.561573Z",
     "shell.execute_reply.started": "2020-11-27T17:32:34.324636Z"
    }
   },
   "outputs": [],
   "source": [
    "import pandas as pd\n",
    "import numpy as np\n",
    "import matplotlib.pyplot as plt\n",
    "import matplotlib.patches as mpatches\n",
    "from function_pontius import *\n",
    "import itertools as its"
   ]
  },
  {
   "cell_type": "markdown",
   "metadata": {
    "execution": {
     "iopub.execute_input": "2020-11-26T15:14:44.548734Z",
     "iopub.status.busy": "2020-11-26T15:14:44.548734Z",
     "iopub.status.idle": "2020-11-26T15:14:44.555735Z",
     "shell.execute_reply": "2020-11-26T15:14:44.555735Z",
     "shell.execute_reply.started": "2020-11-26T15:14:44.548734Z"
    }
   },
   "source": [
    "# Consider changing the 'difference' category into aggregations of the available land-use categories to see if that helps clarify the difference between maps better"
   ]
  },
  {
   "cell_type": "markdown",
   "metadata": {},
   "source": [
    "# Normalize the ponti matrices; see if it helps with heatmap/interpretation of differences between maps"
   ]
  },
  {
   "cell_type": "code",
   "execution_count": 2,
   "metadata": {
    "execution": {
     "iopub.execute_input": "2020-11-27T17:32:35.562572Z",
     "iopub.status.busy": "2020-11-27T17:32:35.562572Z",
     "iopub.status.idle": "2020-11-27T17:32:45.106755Z",
     "shell.execute_reply": "2020-11-27T17:32:45.106755Z",
     "shell.execute_reply.started": "2020-11-27T17:32:35.562572Z"
    }
   },
   "outputs": [],
   "source": [
    "# Load in the mask for the visualize_difference function\n",
    "mask = np.loadtxt('E:/thesis_data/mask.asc', skiprows=6)\n",
    "# assign basevalue to metric so function doesn't error\n",
    "metric='kappa'"
   ]
  },
  {
   "cell_type": "code",
   "execution_count": 3,
   "metadata": {
    "execution": {
     "iopub.execute_input": "2020-11-27T17:32:45.107756Z",
     "iopub.status.busy": "2020-11-27T17:32:45.107756Z",
     "iopub.status.idle": "2020-11-27T17:32:45.121929Z",
     "shell.execute_reply": "2020-11-27T17:32:45.121929Z",
     "shell.execute_reply.started": "2020-11-27T17:32:45.107756Z"
    }
   },
   "outputs": [],
   "source": [
    "def visualize_difference(map1, map2, metric=metric):\n",
    "    \"\"\"This function takes in two maps in array form and returns an array giving a categorical overview of their difference:\n",
    "    1 - no difference in land-use category between maps\n",
    "    2 - there is a difference in land-use category between maps\"\"\"\n",
    "    map1_dir = 'E:/thesis_data/asc_2k/' + map1 + '.asc'\n",
    "    map2_dir = 'E:/thesis_data/asc_2k/' + map2 + '.asc'    \n",
    "    m1 = np.loadtxt(map1_dir, skiprows=6)\n",
    "    m2 = np.loadtxt(map2_dir, skiprows=6)\n",
    "    array_same = np.where(m1 == m2, 1, 2)\n",
    "    array_new = np.where(mask==1, array_same, 0)\n",
    "    \n",
    "    fig_dir = 'E:/thesis_images/representative_maps/' + metric +'/' + map1 + '_' + map2 + '.png' \n",
    "    plt.figure(figsize=(15, 15)) \n",
    "    plt.title('Difference in land-use of ' + 'map359' +' and ' + 'map456')\n",
    "    im = plt.imshow(array_new, cmap='BuPu')\n",
    "\n",
    "    values = np.unique(array_new.ravel())\n",
    "    # get the colors of the values, according to the \n",
    "    # colormap used by imshow\n",
    "    colors = [ im.cmap(im.norm(value)) for value in values]\n",
    "    #labels to assign in legend\n",
    "    labels= ['Out of Scope', 'No difference', 'Difference']\n",
    "    # create a patch (proxy artist) for every color \n",
    "    patches = [ mpatches.Patch(color=colors[i], label=f'{labels[i]}') for i in range(len(values)) ]\n",
    "    # put those patched as legend-handles into the legend\n",
    "    plt.legend(handles=patches, bbox_to_anchor=(0.005, 0.995), loc=2, borderaxespad=0. )\n",
    "    plt.grid(True)\n",
    "    plt.savefig(fig_dir, format='png')\n",
    "    plt.close()"
   ]
  },
  {
   "cell_type": "code",
   "execution_count": null,
   "metadata": {},
   "outputs": [],
   "source": [
    "#Save images to disk of graphs displaying difference between representative maps for kappa\n",
    "kappa_maps = ['map359', 'map456', 'map541', 'map695', 'map1148', 'map1760', 'map1911']\n",
    "iterator = its.combinations(kappa_maps, 2)\n",
    "\n",
    "for y in its.starmap(visualize_difference, iterator):\n",
    "    pass"
   ]
  }
 ],
 "metadata": {
  "kernelspec": {
   "display_name": "Python 3",
   "language": "python",
   "name": "python3"
  },
  "language_info": {
   "codemirror_mode": {
    "name": "ipython",
    "version": 3
   },
   "file_extension": ".py",
   "mimetype": "text/x-python",
   "name": "python",
   "nbconvert_exporter": "python",
   "pygments_lexer": "ipython3",
   "version": "3.7.3"
  }
 },
 "nbformat": 4,
 "nbformat_minor": 4
}
