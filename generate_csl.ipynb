{
 "cells": [
  {
   "cell_type": "code",
   "execution_count": 42,
   "metadata": {},
   "outputs": [],
   "source": [
    "def csl_generator(filename='kappa', mapcount=5, method='Kappa'):\n",
    "    file_dir = \"C:/LUMOS/MCK/\" + filename + \".csl\"\n",
    "    with open(file_dir, 'w+') as file:\n",
    "        file.truncate(0)\n",
    "        file.write('<comparisonsets>\\n')\n",
    "        for i in range(mapcount):\n",
    "            for j in range(mapcount):\n",
    "                if i < j:\n",
    "                    #method is sensitive to capitalization!\n",
    "                    displayname = method + str(i) +'_' + str(j)\n",
    "                    map1 = \"C:\\\\LUMOS\\MCK\\\\ascmaps\\\\map\" + str(i) + '.asc'\n",
    "                    map2 = \"C:\\\\LUMOS\\\\MCK\\\\ascmaps\\map\" + str(j) + '.asc'\n",
    "                    stats = displayname + '.sts'\n",
    "                    file.writelines(['\\n\\t<comparisonset displayname=' + '\"'+ filename + '\"' + ' map1path=' + '\"' \\\n",
    "                                    + map1 + '\"'+ ' map2path=' + '\"'+ map2 + '\"'+ ' method=' + '\"'+ method + '\"' \\\n",
    "                                    + ' outputstatistics=' + '\"'+ stats + '\"'+ ' theme1=\"lusmaps\" theme2=\"lusmaps\" up2date=\"0\">' \\\n",
    "                                    ,'\\n\\t\\t<parameterset/>' \\\n",
    "                                    , '\\n\\t\\t<mask basemappath=\"C:\\\\LUMOS\\\\MCK\\\\mask.asc\" displayname=\"NL_mask\" mergeregions=\"0\">' \\\n",
    "                                    ,'\\n\\t\\t\\t<selectedregions>' \\\n",
    "                                    ,'\\n\\t\\t\\t\\t<value value=\"0\"/>' \\\n",
    "                                    ,'\\n\\t\\t\\t\\t<value value=\"1\"/>' \\\n",
    "                                    ,'\\n\\t\\t\\t</selectedregions>' \\\n",
    "                                    ,'\\n\\t\\t</mask>' \\\n",
    "                                    ,'\\n\\t</comparisonset>\\n'])\n",
    "        file.write('</comparisonsets>')    "
   ]
  },
  {
   "cell_type": "code",
   "execution_count": 25,
   "metadata": {},
   "outputs": [],
   "source": [
    "def csl_clumpiness(filename='clumpiness', mapcount=5, method='Moving Window based Structure'):\n",
    "    file_dir = \"C:/LUMOS/MCK/\" + filename + \".csl\"\n",
    "    with open(file_dir, 'w+') as file:\n",
    "        file.truncate(0)\n",
    "        file.write('<comparisonsets>\\n')\n",
    "        for i in range(mapcount):\n",
    "            for j in range(mapcount):\n",
    "                if i < j:\n",
    "                    #method is sensitive to capitalization!\n",
    "                    displayname = filename + str(i) +'_' + str(j)\n",
    "                    map1 = \"C:\\\\LUMOS\\MCK\\\\ascmaps\\\\map\" + str(i) + '.asc'\n",
    "                    map2 = \"C:\\\\LUMOS\\\\MCK\\\\ascmaps\\map\" + str(j) + '.asc'\n",
    "                    stats = displayname + '.sts'\n",
    "                    file.writelines(['\\n\\t<comparisonset displayname=' + '\"'+ filename + '\"' + ' map1path=' + '\"' \\\n",
    "                                    + map1 + '\"'+ ' map2path=' + '\"'+ map2 + '\"'+ ' method=' + '\"'+ method + '\"' \\\n",
    "                                    + ' outputstatistics=' + '\"'+ stats + '\"'+ ' theme1=\"maps\" theme2=\"maps\" up2date=\"0\">' \\\n",
    "                                    ,'\\n\\t\\t<parameterset>'\\\n",
    "                                    , '\\n\\t\\t\\t<comparison_moving_window_structure aggregation=\"1\" average_per_cell=\"1\" ' \\\n",
    "                                    + 'background_category=\"0\" category_of_interest=\"0\" display_map=\"0\" ' \\\n",
    "                                    + 'distance_weighed=\"0\" halving=\"2\" include_diagonal=\"1\" metric=\"15\" ' \\\n",
    "                                    + 'per_category=\"0\" radius=\"4\" use_background=\"0\"/>' \\\n",
    "                                    ,'\\n\\t\\t</parameterset>' \\\n",
    "                                    , '\\n\\t\\t<mask basemappath=\"C:\\\\LUMOS\\\\MCK\\\\mask.asc\" displayname=\"NL_mask\" mergeregions=\"0\">' \\\n",
    "                                    ,'\\n\\t\\t\\t\\t<selectedregions>' \\\n",
    "                                    ,'\\n\\t\\t\\t\\t\\t<value value=\"0\"/>' \\\n",
    "                                    ,'\\n\\t\\t\\t\\t\\t<value value=\"1\"/>' \\\n",
    "                                    ,'\\n\\t\\t\\t</selectedregions>' \\\n",
    "                                    ,'\\n\\t\\t</mask>' \\\n",
    "                                    ,'\\n\\t</comparisonset>\\n'])\n",
    "        file.write('</comparisonsets>')    "
   ]
  },
  {
   "cell_type": "code",
   "execution_count": 40,
   "metadata": {},
   "outputs": [],
   "source": [
    "def csl_fractal(filename='fractaldimension', mapcount=5, method='Moving Window based Structure'):\n",
    "    file_dir = \"C:/LUMOS/MCK/\" + filename + \".csl\"\n",
    "    with open(file_dir, 'w+') as file:\n",
    "        file.truncate(0)\n",
    "        file.write('<comparisonsets>\\n')\n",
    "        for i in range(0, mapcount, 2):\n",
    "            #method is sensitive to capitalization!\n",
    "            displayname = filename + str(i) +'_' + str(i + 1)\n",
    "            map1 = \"C:\\\\LUMOS\\MCK\\\\ascmaps\\\\map\" + str(i) + '.asc'\n",
    "            map2 = \"C:\\\\LUMOS\\\\MCK\\\\ascmaps\\map\" + str(i + 1) + '.asc'\n",
    "            stats = displayname + '.sts'\n",
    "            file.writelines(['\\n\\t<comparisonset displayname=' + '\"'+ filename + '\"' + ' map1path=' + '\"' \\\n",
    "                            + map1 + '\"'+ ' map2path=' + '\"'+ map2 + '\"'+ ' method=' + '\"'+ method + '\"' \\\n",
    "                            + ' outputstatistics=' + '\"'+ stats + '\"'+ ' theme1=\"maps\" theme2=\"maps\" up2date=\"0\">' \\\n",
    "                            ,'\\n\\t\\t<parameterset>'\\\n",
    "                            , '\\n\\t\\t\\t<comparison_moving_window_structure aggregation=\"1\" average_per_cell=\"1\" ' \\\n",
    "                            + 'background_category=\"0\" category_of_interest=\"0\" display_map=\"0\" ' \\\n",
    "                            + 'distance_weighed=\"0\" halving=\"2\" include_diagonal=\"1\" metric=\"3\" ' \\\n",
    "                            + 'per_category=\"0\" radius=\"4\" use_background=\"0\"/>' \\\n",
    "                            ,'\\n\\t\\t</parameterset>' \\\n",
    "                            , '\\n\\t\\t<mask basemappath=\"C:\\\\LUMOS\\\\MCK\\\\mask.asc\" displayname=\"NL_mask\" mergeregions=\"0\">' \\\n",
    "                            ,'\\n\\t\\t\\t\\t<selectedregions>' \\\n",
    "                            ,'\\n\\t\\t\\t\\t\\t<value value=\"0\"/>' \\\n",
    "                            ,'\\n\\t\\t\\t\\t\\t<value value=\"1\"/>' \\\n",
    "                            ,'\\n\\t\\t\\t</selectedregions>' \\\n",
    "                            ,'\\n\\t\\t</mask>' \\\n",
    "                            ,'\\n\\t</comparisonset>\\n'])\n",
    "        file.write('</comparisonsets>')    "
   ]
  },
  {
   "cell_type": "code",
   "execution_count": 9,
   "metadata": {},
   "outputs": [],
   "source": [
    "#Kappa\n",
    "csl_generator('kappa', 100, 'Kappa')"
   ]
  },
  {
   "cell_type": "code",
   "execution_count": 8,
   "metadata": {},
   "outputs": [],
   "source": [
    "#Fuzzy Kappa Simulation not functional\n",
    "#csl_generator('fuzzykappasimulation', 5, 'Fuzzy Kappa Simulation')"
   ]
  },
  {
   "cell_type": "code",
   "execution_count": 26,
   "metadata": {},
   "outputs": [],
   "source": [
    "#Clumpiness\n",
    "csl_clumpiness(mapcount=5)"
   ]
  },
  {
   "cell_type": "code",
   "execution_count": 41,
   "metadata": {},
   "outputs": [],
   "source": [
    "#Fractal Dimension\n",
    "csl_fractal(mapcount=100)"
   ]
  },
  {
   "cell_type": "code",
   "execution_count": 3,
   "metadata": {},
   "outputs": [],
   "source": [
    "def csl_fuzyzkappasim(filename='fuzzykappasimulation', mapcount=5, method='Fuzzy Kappa Simulation'):\n",
    "    file_dir = \"C:/LUMOS/MCK/\" + filename + \".csl\"\n",
    "    with open(file_dir, 'w+') as file:\n",
    "        file.truncate(0)\n",
    "        file.write('<comparisonsets>\\n')\n",
    "        for i in range(mapcount):\n",
    "            for j in range(mapcount):\n",
    "                if i < j:\n",
    "                    #method is sensitive to capitalization!\n",
    "                    displayname = method + str(i) +'_' + str(j)\n",
    "                    map1 = \"C:\\\\LUMOS\\MCK\\\\ascmaps\\\\map\" + str(i) + '.asc'\n",
    "                    map2 = \"C:\\\\LUMOS\\\\MCK\\\\ascmaps\\map\" + str(j) + '.asc'\n",
    "                    stats = displayname + '.sts'\n",
    "                    file.writelines(['\\n\\t<comparisonset displayname=' + '\"'+ displayname + '\"' + ' map1path=' + '\"' \\\n",
    "                                    + map1 + '\"'+ ' map2path=' + '\"'+ map2 + '\"'+ ' method=' + '\"'+ method + '\"' \\\n",
    "                                    + ' outputstatistics=' + '\"'+ stats + '\"'+ ' theme1=\"lusmaps\" theme2=\"lusmaps\" up2date=\"0\">' \\\n",
    "                                    ,'\\n\\t\\t<parameterset/>' \\\n",
    "                                    , '\\n\\t\\t<mask basemappath=\"C:\\\\LUMOS\\\\MCK\\\\mask.asc\" displayname=\"NL_mask\" mergeregions=\"0\">' \\\n",
    "                                    ,'\\n\\t\\t\\t<selectedregions>' \\\n",
    "                                    ,'\\n\\t\\t\\t\\t<value value=\"0\"/>' \\\n",
    "                                    ,'\\n\\t\\t\\t\\t<value value=\"1\"/>' \\\n",
    "                                    ,'\\n\\t\\t\\t</selectedregions>' \\\n",
    "                                    ,'\\n\\t\\t</mask>' \\\n",
    "                                    ,'\\n\\t</comparisonset>\\n'])\n",
    "        file.write('</comparisonsets>')   "
   ]
  },
  {
   "cell_type": "code",
   "execution_count": null,
   "metadata": {},
   "outputs": [],
   "source": [
    "#Kappa Simulation"
   ]
  }
 ],
 "metadata": {
  "kernelspec": {
   "display_name": "Python 3",
   "language": "python",
   "name": "python3"
  },
  "language_info": {
   "codemirror_mode": {
    "name": "ipython",
    "version": 3
   },
   "file_extension": ".py",
   "mimetype": "text/x-python",
   "name": "python",
   "nbconvert_exporter": "python",
   "pygments_lexer": "ipython3",
   "version": "3.7.3"
  }
 },
 "nbformat": 4,
 "nbformat_minor": 4
}
