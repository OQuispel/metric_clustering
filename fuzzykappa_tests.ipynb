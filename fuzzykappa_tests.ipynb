{
 "cells": [
  {
   "cell_type": "code",
   "execution_count": 12,
   "metadata": {},
   "outputs": [],
   "source": [
    "l = []\n",
    "with open(\"C:/LUMOS/MCK/fuzzy.csl\", 'r') as file:\n",
    "    for y in file:\n",
    "        l.append(y)"
   ]
  },
  {
   "cell_type": "code",
   "execution_count": 9,
   "metadata": {},
   "outputs": [],
   "source": [
    "fuzzy_dict = {}\n",
    "with open(\"C:/LUMOS/MCK/fuzzy.csl\", 'r') as file:\n",
    "    for l, line in enumerate(file):\n",
    "        fuzzy_dict[l] = line\n",
    "        \n",
    "fuzzy_length = len(fuzzy_dict)"
   ]
  },
  {
   "cell_type": "code",
   "execution_count": 29,
   "metadata": {},
   "outputs": [],
   "source": [
    "def csl_fuzzykappa(filename='kappafuzzy', mapcount=5, method='Fuzzy Kappa (2009 version)'):\n",
    "    file_dir = \"C:/LUMOS/MCK/\" + filename + \".csl\"\n",
    "    with open(file_dir, 'w+') as file:\n",
    "        file.truncate(0)\n",
    "        file.write('<comparisonsets>\\n')\n",
    "        for i in range(mapcount):\n",
    "            for j in range(mapcount):\n",
    "                if i < j:\n",
    "                    #method is sensitive to capitalization!\n",
    "                    displayname = filename + str(i) +'_' + str(j)\n",
    "                    map1 = \"C:\\\\LUMOS\\MCK\\\\ascmaps\\\\map\" + str(i) + '.asc'\n",
    "                    map2 = \"C:\\\\LUMOS\\\\MCK\\\\ascmaps\\map\" + str(j) + '.asc'\n",
    "                    stats = displayname + '.sts'\n",
    "                    for key in fuzzy_dict:\n",
    "                        if key == 4:\n",
    "                            file.write('\\n\\t<comparisonset displayname=' + '\"'+ filename + '\"' + ' map1path=' + '\"' \\\n",
    "                                            + map1 + '\"'+ ' map2path=' + '\"'+ map2 + '\"'+ ' method=' + '\"'+ method + '\"' \\\n",
    "                                            + ' outputstatistics=' + '\"'+ stats + '\"'+ ' theme1=\"lusmaps\" theme2=\"lusmaps\" up2date=\"0\">\\n')\n",
    "                        if key > 4 and key < 917:\n",
    "                            file.write(fuzzy_dict[key])\n",
    "                            \n",
    "        file.write('</comparisonsets>')   "
   ]
  },
  {
   "cell_type": "code",
   "execution_count": 31,
   "metadata": {},
   "outputs": [],
   "source": [
    "csl_fuzzykappa(mapcount=2)"
   ]
  },
  {
   "cell_type": "code",
   "execution_count": null,
   "metadata": {},
   "outputs": [],
   "source": []
  }
 ],
 "metadata": {
  "kernelspec": {
   "display_name": "Python 3",
   "language": "python",
   "name": "python3"
  },
  "language_info": {
   "codemirror_mode": {
    "name": "ipython",
    "version": 3
   },
   "file_extension": ".py",
   "mimetype": "text/x-python",
   "name": "python",
   "nbconvert_exporter": "python",
   "pygments_lexer": "ipython3",
   "version": "3.7.3"
  }
 },
 "nbformat": 4,
 "nbformat_minor": 4
}
