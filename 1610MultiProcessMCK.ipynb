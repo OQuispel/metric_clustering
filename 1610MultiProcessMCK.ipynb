{
 "cells": [
  {
   "cell_type": "code",
   "execution_count": 1,
   "metadata": {
    "execution": {
     "iopub.execute_input": "2020-10-16T11:08:11.961541Z",
     "iopub.status.busy": "2020-10-16T11:08:11.961541Z",
     "iopub.status.idle": "2020-10-16T11:08:12.575681Z",
     "shell.execute_reply": "2020-10-16T11:08:12.575681Z",
     "shell.execute_reply.started": "2020-10-16T11:08:11.961541Z"
    }
   },
   "outputs": [],
   "source": [
    "import numpy as np\n",
    "import tempfile\n",
    "from shutil import copy\n",
    "import pandas as pd\n",
    "from multiprocessing import Pool\n",
    "import multiprocessing.pool as mpp\n",
    "import subprocess\n",
    "import scipy.spatial.distance as ssd\n",
    "import matplotlib.pyplot as plt\n",
    "from function import *\n",
    "from platform import python_version\n",
    "import tqdm"
   ]
  },
  {
   "cell_type": "markdown",
   "metadata": {},
   "source": [
    "# Approach\n",
    "1. Generate list of maps to compare\n",
    "1. Generate list of all required comparisons\n",
    "1. Pre-load all csv maps into Python\n",
    "1. Select map pair to compare\n",
    "1. Create temp folder\n",
    "1. Provide temp folder with maskland and mask file\n",
    "1. Generate asc version of csv maps that are to be compared\n",
    "1. Generate CSL and log file for the comparison and copy to temp folder\n",
    "1. Copy legends folder to temp folder\n",
    "1. Run comparison in MCK\n",
    "1. Extract required stats from outputfile\n",
    "1. Delete temp folder with all files\n",
    "1. Go back and repeat from step 4 until all comparisons have been run\n",
    "1. Export all data to disk\n",
    "<img src=\"PythonPipeline.png\">"
   ]
  },
  {
   "cell_type": "markdown",
   "metadata": {},
   "source": [
    "# Problems\n",
    "1. For some reason map19 in the sample converts some rows to 'NULL' eventhough corresponding rows in ascmaps & ascmaps2 are correct"
   ]
  },
  {
   "cell_type": "markdown",
   "metadata": {},
   "source": [
    "# Help Functions\n",
    "<b><font size=\"4\">Any function not defined here can be found in function.py</font></b><br>\n",
    "This distinction is necessary as pool does not run with the function defined in the notebook."
   ]
  },
  {
   "cell_type": "code",
   "execution_count": 2,
   "metadata": {
    "execution": {
     "iopub.execute_input": "2020-10-16T11:08:14.304917Z",
     "iopub.status.busy": "2020-10-16T11:08:14.304917Z",
     "iopub.status.idle": "2020-10-16T11:08:14.319921Z",
     "shell.execute_reply": "2020-10-16T11:08:14.319921Z",
     "shell.execute_reply.started": "2020-10-16T11:08:14.304917Z"
    }
   },
   "outputs": [],
   "source": [
    "def single_df(maps, stats, metric):\n",
    "    \"\"\"This function takes the output from the run comparisons function for single map comparison metrics and returns the distance matrix\"\"\"\n",
    "    #create base df to form basis for distance matrix\n",
    "    df = pd.DataFrame(index=maps)\n",
    "    df[metric] = stats\n",
    "    #calculate euclidean distance between all values then change to matrix form\n",
    "    matrix = ssd.squareform(ssd.pdist(df))\n",
    "    df_clean = pd.DataFrame(matrix, index=maps, columns=maps)\n",
    "    \n",
    "    # save values to disk\n",
    "    csv_val = csv_dir + metric + '_values.csv'\n",
    "    df_vals = pd.DataFrame(index=map_set)\n",
    "    df_vals[metric] = stats\n",
    "    df_vals.to_csv(csv_val)\n",
    "    #save df to disk\n",
    "    csv_name = csv_dir + metric + '_df.csv'\n",
    "    df_clean.to_csv(csv_name, index=False)\n",
    "    return df_clean\n",
    "\n",
    "def multi_df(map1, map2, stats, metric):\n",
    "    \"\"\"This function takes the output from the run comparisons function for multi map comparison metrics and returns the distance matrix\"\"\"\n",
    "    #Create two dataframes with swapped map columns\n",
    "    df = pd.DataFrame()\n",
    "    df['map1'] = [x for x in map1]\n",
    "    df['map2'] = [x for x in map2]\n",
    "    df[metric] = stats\n",
    "    df2 = df\n",
    "    df2 = df2[[ 'map2', 'map1', metric]]\n",
    "    df2.columns = ['map1', 'map2', metric]      \n",
    "    df_concat = pd.concat([df, df2])\n",
    "    df_pivot = df_concat.pivot(index='map2', columns='map1', values=metric)\n",
    "    \n",
    "    #clean up the presentation\n",
    "    #Remove unecessary labeling\n",
    "    index = df_pivot.index.union(df_pivot.columns)\n",
    "    df_clean = df_pivot.reindex(index=index, columns=index)\n",
    "    #reindex to correct numerical order\n",
    "    ordered = df_clean.index.to_series().str.rsplit('p').str[-1].astype(int).sort_values()\n",
    "    df_clean = df_clean.reindex(index=ordered.index, columns=ordered.index).fillna(1).round(decimals=3)\n",
    "    \n",
    "    #save df to disk\n",
    "    csv_name = csv_dir + metric + '_df.csv'\n",
    "    df_clean.to_csv(csv_name, index=False)\n",
    "    return df_clean\n",
    "\n",
    "def istarmap(self, func, iterable, chunksize=1):\n",
    "    \"\"\"starmap-version of imap\n",
    "    \"\"\"\n",
    "    if self._state != mpp.RUN:\n",
    "        raise ValueError(\"Pool not running\")\n",
    "\n",
    "    if chunksize < 1:\n",
    "        raise ValueError(\n",
    "            \"Chunksize must be 1+, not {0:n}\".format(\n",
    "                chunksize))\n",
    "\n",
    "    task_batches = mpp.Pool._get_tasks(func, iterable, chunksize)\n",
    "    result = mpp.IMapIterator(self._cache)\n",
    "    self._taskqueue.put(\n",
    "        (\n",
    "            self._guarded_task_generation(result._job,\n",
    "                                          mpp.starmapstar,\n",
    "                                          task_batches),\n",
    "            result._set_length\n",
    "        ))\n",
    "    return (item for chunk in result for item in chunk)\n",
    "\n",
    "\n",
    "mpp.Pool.istarmap = istarmap"
   ]
  },
  {
   "cell_type": "markdown",
   "metadata": {},
   "source": [
    "# Setup Variables Main"
   ]
  },
  {
   "cell_type": "code",
   "execution_count": 3,
   "metadata": {
    "execution": {
     "iopub.execute_input": "2020-10-16T11:08:14.928575Z",
     "iopub.status.busy": "2020-10-16T11:08:14.928575Z",
     "iopub.status.idle": "2020-10-16T11:08:14.933575Z",
     "shell.execute_reply": "2020-10-16T11:08:14.933575Z",
     "shell.execute_reply.started": "2020-10-16T11:08:14.928575Z"
    }
   },
   "outputs": [],
   "source": [
    "#directory where the dataframes containing output are stored\n",
    "csv_dir = 'C:/LUMOS/MCK/Output_DFs/'\n",
    "\n",
    "#Variables that store number of iteration for single and multi map comparisons\n",
    "single_its = len(map_list)\n",
    "multi_its = len(map_pairs)\n",
    "\n",
    "map_set = ['map' + str(i) for i in range(nr_maps)]"
   ]
  },
  {
   "cell_type": "markdown",
   "metadata": {},
   "source": [
    "# Metric_ID"
   ]
  },
  {
   "cell_type": "markdown",
   "metadata": {},
   "source": [
    "This list contains the metrics available for analysis and the metric_id that needs to be assigned to the metric_id list to generate the desired output, and the value passed to the extract stats function:<br>"
   ]
  },
  {
   "cell_type": "markdown",
   "metadata": {},
   "source": [
    "| Metric                        |   ID   |              note             |\n",
    "|-------------------------------|--------|--------------------------------|\n",
    "|   Kappa                       | kappa  |         done                       |\n",
    "|   Fuzzy Kappa                 | kfuzzy |                      |\n",
    "|   Overall Accuracy                 | oa |                      |\n",
    "|   Proportion Correct               | prop |                      |\n",
    "|   Allocation Disagreement     | alloc  |                      | \n",
    "|   Quantity Disagreement       | quant  |                      | \n",
    "|   Total Disagreement       | td  |                      |\n",
    "|   Total Class Area          | tca|                      |\n",
    "|  Percentage of Landscape  | pland|                      |\n",
    "|   Simpson's Diversity Index   | simp|                 done     |\n",
    "|   Shannon's Diversity Index   | shan|             done         |"
   ]
  },
  {
   "cell_type": "markdown",
   "metadata": {},
   "source": [
    "# Run Kappa"
   ]
  },
  {
   "cell_type": "code",
   "execution_count": null,
   "metadata": {},
   "outputs": [],
   "source": [
    "kappa = []\n",
    "kappa_maps1 = []\n",
    "kappa_maps2 = []\n",
    "\n",
    "with Pool(16) as pool:\n",
    "    iterable =  [(i, 'kappa') for i in range(multi_its)]\n",
    "    for n1, n2, sts in tqdm.tqdm(pool.istarmap(run_comparisons, iterable),\n",
    "                       total=len(iterable)):\n",
    "        kappa_maps1.append(n1)\n",
    "        kappa_maps2.append(n2)\n",
    "        kappa.append(sts) "
   ]
  },
  {
   "cell_type": "markdown",
   "metadata": {},
   "source": [
    "### Kappa Dataframe"
   ]
  },
  {
   "cell_type": "code",
   "execution_count": null,
   "metadata": {},
   "outputs": [],
   "source": [
    "df_kappa = multi_df(kappa_maps1, kappa_maps2, kappa, 'kappa')\n",
    "df_kappa.head(5)"
   ]
  },
  {
   "cell_type": "markdown",
   "metadata": {},
   "source": [
    "# Run Fuzzy Kappa"
   ]
  },
  {
   "cell_type": "code",
   "execution_count": 4,
   "metadata": {
    "execution": {
     "iopub.execute_input": "2020-10-16T11:08:16.600584Z",
     "iopub.status.busy": "2020-10-16T11:08:16.600584Z",
     "iopub.status.idle": "2020-10-16T11:26:33.586683Z",
     "shell.execute_reply": "2020-10-16T11:26:33.584684Z",
     "shell.execute_reply.started": "2020-10-16T11:08:16.600584Z"
    }
   },
   "outputs": [
    {
     "name": "stderr",
     "output_type": "stream",
     "text": [
      "100%|████████████████████████████████████████████████████████████████████████████████| 190/190 [18:16<00:00,  5.77s/it]\n"
     ]
    }
   ],
   "source": [
    "kfuzzy = []\n",
    "kfuzzy_maps1 = []\n",
    "kfuzzy_maps2 = []\n",
    "\n",
    "with Pool(16) as pool:\n",
    "    iterable =  [(i, 'kfuzzy') for i in range(multi_its)]\n",
    "    for n1, n2, sts in tqdm.tqdm(pool.istarmap(run_comparisons, iterable),\n",
    "                       total=len(iterable)):\n",
    "        kfuzzy_maps1.append(n1)\n",
    "        kfuzzy_maps2.append(n2)\n",
    "        kfuzzy.append(sts) "
   ]
  },
  {
   "cell_type": "markdown",
   "metadata": {},
   "source": [
    "### Fuzzy Kappa DF"
   ]
  },
  {
   "cell_type": "code",
   "execution_count": 5,
   "metadata": {
    "execution": {
     "iopub.execute_input": "2020-10-16T11:35:10.546549Z",
     "iopub.status.busy": "2020-10-16T11:35:10.545549Z",
     "iopub.status.idle": "2020-10-16T11:35:10.633749Z",
     "shell.execute_reply": "2020-10-16T11:35:10.633749Z",
     "shell.execute_reply.started": "2020-10-16T11:35:10.546549Z"
    }
   },
   "outputs": [
    {
     "data": {
      "text/html": [
       "<div>\n",
       "<style scoped>\n",
       "    .dataframe tbody tr th:only-of-type {\n",
       "        vertical-align: middle;\n",
       "    }\n",
       "\n",
       "    .dataframe tbody tr th {\n",
       "        vertical-align: top;\n",
       "    }\n",
       "\n",
       "    .dataframe thead th {\n",
       "        text-align: right;\n",
       "    }\n",
       "</style>\n",
       "<table border=\"1\" class=\"dataframe\">\n",
       "  <thead>\n",
       "    <tr style=\"text-align: right;\">\n",
       "      <th></th>\n",
       "      <th>map0</th>\n",
       "      <th>map1</th>\n",
       "      <th>map2</th>\n",
       "      <th>map3</th>\n",
       "      <th>map4</th>\n",
       "      <th>map5</th>\n",
       "      <th>map6</th>\n",
       "      <th>map7</th>\n",
       "      <th>map8</th>\n",
       "      <th>map9</th>\n",
       "      <th>map10</th>\n",
       "      <th>map11</th>\n",
       "      <th>map12</th>\n",
       "      <th>map13</th>\n",
       "      <th>map14</th>\n",
       "      <th>map15</th>\n",
       "      <th>map16</th>\n",
       "      <th>map17</th>\n",
       "      <th>map18</th>\n",
       "      <th>map19</th>\n",
       "    </tr>\n",
       "  </thead>\n",
       "  <tbody>\n",
       "    <tr>\n",
       "      <th>map0</th>\n",
       "      <td>1.000</td>\n",
       "      <td>0.946</td>\n",
       "      <td>0.930</td>\n",
       "      <td>0.951</td>\n",
       "      <td>0.960</td>\n",
       "      <td>0.951</td>\n",
       "      <td>0.923</td>\n",
       "      <td>0.923</td>\n",
       "      <td>0.921</td>\n",
       "      <td>0.949</td>\n",
       "      <td>0.940</td>\n",
       "      <td>0.919</td>\n",
       "      <td>0.954</td>\n",
       "      <td>0.943</td>\n",
       "      <td>0.942</td>\n",
       "      <td>0.985</td>\n",
       "      <td>0.949</td>\n",
       "      <td>0.939</td>\n",
       "      <td>0.940</td>\n",
       "      <td>0.927</td>\n",
       "    </tr>\n",
       "    <tr>\n",
       "      <th>map1</th>\n",
       "      <td>0.946</td>\n",
       "      <td>1.000</td>\n",
       "      <td>0.972</td>\n",
       "      <td>0.987</td>\n",
       "      <td>0.948</td>\n",
       "      <td>0.987</td>\n",
       "      <td>0.966</td>\n",
       "      <td>0.964</td>\n",
       "      <td>0.961</td>\n",
       "      <td>0.946</td>\n",
       "      <td>0.953</td>\n",
       "      <td>0.966</td>\n",
       "      <td>0.934</td>\n",
       "      <td>0.939</td>\n",
       "      <td>0.934</td>\n",
       "      <td>0.946</td>\n",
       "      <td>0.980</td>\n",
       "      <td>0.963</td>\n",
       "      <td>0.960</td>\n",
       "      <td>0.971</td>\n",
       "    </tr>\n",
       "    <tr>\n",
       "      <th>map2</th>\n",
       "      <td>0.930</td>\n",
       "      <td>0.972</td>\n",
       "      <td>1.000</td>\n",
       "      <td>0.972</td>\n",
       "      <td>0.940</td>\n",
       "      <td>0.972</td>\n",
       "      <td>0.966</td>\n",
       "      <td>0.967</td>\n",
       "      <td>0.964</td>\n",
       "      <td>0.939</td>\n",
       "      <td>0.950</td>\n",
       "      <td>0.961</td>\n",
       "      <td>0.936</td>\n",
       "      <td>0.940</td>\n",
       "      <td>0.937</td>\n",
       "      <td>0.934</td>\n",
       "      <td>0.972</td>\n",
       "      <td>0.958</td>\n",
       "      <td>0.951</td>\n",
       "      <td>0.963</td>\n",
       "    </tr>\n",
       "    <tr>\n",
       "      <th>map3</th>\n",
       "      <td>0.951</td>\n",
       "      <td>0.987</td>\n",
       "      <td>0.972</td>\n",
       "      <td>1.000</td>\n",
       "      <td>0.944</td>\n",
       "      <td>0.999</td>\n",
       "      <td>0.966</td>\n",
       "      <td>0.968</td>\n",
       "      <td>0.961</td>\n",
       "      <td>0.937</td>\n",
       "      <td>0.952</td>\n",
       "      <td>0.960</td>\n",
       "      <td>0.937</td>\n",
       "      <td>0.936</td>\n",
       "      <td>0.938</td>\n",
       "      <td>0.954</td>\n",
       "      <td>0.991</td>\n",
       "      <td>0.958</td>\n",
       "      <td>0.958</td>\n",
       "      <td>0.970</td>\n",
       "    </tr>\n",
       "    <tr>\n",
       "      <th>map4</th>\n",
       "      <td>0.960</td>\n",
       "      <td>0.948</td>\n",
       "      <td>0.940</td>\n",
       "      <td>0.944</td>\n",
       "      <td>1.000</td>\n",
       "      <td>0.944</td>\n",
       "      <td>0.940</td>\n",
       "      <td>0.931</td>\n",
       "      <td>0.933</td>\n",
       "      <td>0.956</td>\n",
       "      <td>0.953</td>\n",
       "      <td>0.935</td>\n",
       "      <td>0.959</td>\n",
       "      <td>0.958</td>\n",
       "      <td>0.947</td>\n",
       "      <td>0.963</td>\n",
       "      <td>0.936</td>\n",
       "      <td>0.958</td>\n",
       "      <td>0.972</td>\n",
       "      <td>0.954</td>\n",
       "    </tr>\n",
       "  </tbody>\n",
       "</table>\n",
       "</div>"
      ],
      "text/plain": [
       "       map0   map1   map2   map3   map4   map5   map6   map7   map8   map9  \\\n",
       "map0  1.000  0.946  0.930  0.951  0.960  0.951  0.923  0.923  0.921  0.949   \n",
       "map1  0.946  1.000  0.972  0.987  0.948  0.987  0.966  0.964  0.961  0.946   \n",
       "map2  0.930  0.972  1.000  0.972  0.940  0.972  0.966  0.967  0.964  0.939   \n",
       "map3  0.951  0.987  0.972  1.000  0.944  0.999  0.966  0.968  0.961  0.937   \n",
       "map4  0.960  0.948  0.940  0.944  1.000  0.944  0.940  0.931  0.933  0.956   \n",
       "\n",
       "      map10  map11  map12  map13  map14  map15  map16  map17  map18  map19  \n",
       "map0  0.940  0.919  0.954  0.943  0.942  0.985  0.949  0.939  0.940  0.927  \n",
       "map1  0.953  0.966  0.934  0.939  0.934  0.946  0.980  0.963  0.960  0.971  \n",
       "map2  0.950  0.961  0.936  0.940  0.937  0.934  0.972  0.958  0.951  0.963  \n",
       "map3  0.952  0.960  0.937  0.936  0.938  0.954  0.991  0.958  0.958  0.970  \n",
       "map4  0.953  0.935  0.959  0.958  0.947  0.963  0.936  0.958  0.972  0.954  "
      ]
     },
     "execution_count": 5,
     "metadata": {},
     "output_type": "execute_result"
    }
   ],
   "source": [
    "df_kfuzzy = multi_df(kfuzzy_maps1, kfuzzy_maps2, kfuzzy, 'kfuzzy')\n",
    "df_kfuzzy.head(5)"
   ]
  },
  {
   "cell_type": "markdown",
   "metadata": {},
   "source": [
    "# Run Simpson's"
   ]
  },
  {
   "cell_type": "code",
   "execution_count": 6,
   "metadata": {
    "execution": {
     "iopub.execute_input": "2020-10-16T11:47:26.475865Z",
     "iopub.status.busy": "2020-10-16T11:47:26.475865Z",
     "iopub.status.idle": "2020-10-16T11:47:46.492352Z",
     "shell.execute_reply": "2020-10-16T11:47:46.492352Z",
     "shell.execute_reply.started": "2020-10-16T11:47:26.475865Z"
    }
   },
   "outputs": [
    {
     "name": "stderr",
     "output_type": "stream",
     "text": [
      "100%|██████████████████████████████████████████████████████████████████████████████████| 10/10 [00:19<00:00,  1.99s/it]\n"
     ]
    }
   ],
   "source": [
    "simp = []\n",
    "simp_maps1 = []\n",
    "simp_maps2 = []\n",
    "\n",
    "with Pool(16) as pool:\n",
    "    iterable =  [(i, 'simp') for i in range(single_its)]\n",
    "    for n1, n2, sts, sts2 in tqdm.tqdm(pool.istarmap(run_comparisons, iterable),\n",
    "                       total=len(iterable)):\n",
    "        simp_maps1.append(n1)\n",
    "        simp_maps2.append(n2)\n",
    "        simp.append(sts)\n",
    "        if simp_maps1 !=  simp_maps2:\n",
    "            simp.append(sts2)"
   ]
  },
  {
   "cell_type": "markdown",
   "metadata": {},
   "source": [
    "### Simpson's Dataframe"
   ]
  },
  {
   "cell_type": "code",
   "execution_count": 7,
   "metadata": {
    "execution": {
     "iopub.execute_input": "2020-10-16T11:47:46.494353Z",
     "iopub.status.busy": "2020-10-16T11:47:46.493762Z",
     "iopub.status.idle": "2020-10-16T11:47:46.523360Z",
     "shell.execute_reply": "2020-10-16T11:47:46.523360Z",
     "shell.execute_reply.started": "2020-10-16T11:47:46.494353Z"
    }
   },
   "outputs": [
    {
     "data": {
      "text/html": [
       "<div>\n",
       "<style scoped>\n",
       "    .dataframe tbody tr th:only-of-type {\n",
       "        vertical-align: middle;\n",
       "    }\n",
       "\n",
       "    .dataframe tbody tr th {\n",
       "        vertical-align: top;\n",
       "    }\n",
       "\n",
       "    .dataframe thead th {\n",
       "        text-align: right;\n",
       "    }\n",
       "</style>\n",
       "<table border=\"1\" class=\"dataframe\">\n",
       "  <thead>\n",
       "    <tr style=\"text-align: right;\">\n",
       "      <th></th>\n",
       "      <th>map0</th>\n",
       "      <th>map1</th>\n",
       "      <th>map2</th>\n",
       "      <th>map3</th>\n",
       "      <th>map4</th>\n",
       "      <th>map5</th>\n",
       "      <th>map6</th>\n",
       "      <th>map7</th>\n",
       "      <th>map8</th>\n",
       "      <th>map9</th>\n",
       "      <th>map10</th>\n",
       "      <th>map11</th>\n",
       "      <th>map12</th>\n",
       "      <th>map13</th>\n",
       "      <th>map14</th>\n",
       "      <th>map15</th>\n",
       "      <th>map16</th>\n",
       "      <th>map17</th>\n",
       "      <th>map18</th>\n",
       "      <th>map19</th>\n",
       "    </tr>\n",
       "  </thead>\n",
       "  <tbody>\n",
       "    <tr>\n",
       "      <th>map0</th>\n",
       "      <td>0.000000</td>\n",
       "      <td>0.005180</td>\n",
       "      <td>0.004092</td>\n",
       "      <td>0.004491</td>\n",
       "      <td>0.001614</td>\n",
       "      <td>4.490696e-03</td>\n",
       "      <td>0.006787</td>\n",
       "      <td>0.006762</td>\n",
       "      <td>0.006689</td>\n",
       "      <td>0.001163</td>\n",
       "      <td>0.003904</td>\n",
       "      <td>0.006722</td>\n",
       "      <td>0.000464</td>\n",
       "      <td>0.000319</td>\n",
       "      <td>0.000320</td>\n",
       "      <td>0.001211</td>\n",
       "      <td>0.004202</td>\n",
       "      <td>0.003717</td>\n",
       "      <td>0.004681</td>\n",
       "      <td>0.007769</td>\n",
       "    </tr>\n",
       "    <tr>\n",
       "      <th>map1</th>\n",
       "      <td>0.005180</td>\n",
       "      <td>0.000000</td>\n",
       "      <td>0.001087</td>\n",
       "      <td>0.000689</td>\n",
       "      <td>0.003566</td>\n",
       "      <td>6.889872e-04</td>\n",
       "      <td>0.001607</td>\n",
       "      <td>0.001583</td>\n",
       "      <td>0.001509</td>\n",
       "      <td>0.004017</td>\n",
       "      <td>0.001275</td>\n",
       "      <td>0.001542</td>\n",
       "      <td>0.005644</td>\n",
       "      <td>0.004861</td>\n",
       "      <td>0.004860</td>\n",
       "      <td>0.006391</td>\n",
       "      <td>0.000978</td>\n",
       "      <td>0.001463</td>\n",
       "      <td>0.000499</td>\n",
       "      <td>0.002590</td>\n",
       "    </tr>\n",
       "    <tr>\n",
       "      <th>map2</th>\n",
       "      <td>0.004092</td>\n",
       "      <td>0.001087</td>\n",
       "      <td>0.000000</td>\n",
       "      <td>0.000398</td>\n",
       "      <td>0.002478</td>\n",
       "      <td>3.984811e-04</td>\n",
       "      <td>0.002695</td>\n",
       "      <td>0.002670</td>\n",
       "      <td>0.002597</td>\n",
       "      <td>0.002929</td>\n",
       "      <td>0.000188</td>\n",
       "      <td>0.002630</td>\n",
       "      <td>0.004557</td>\n",
       "      <td>0.003774</td>\n",
       "      <td>0.003772</td>\n",
       "      <td>0.005303</td>\n",
       "      <td>0.000109</td>\n",
       "      <td>0.000375</td>\n",
       "      <td>0.000588</td>\n",
       "      <td>0.003677</td>\n",
       "    </tr>\n",
       "    <tr>\n",
       "      <th>map3</th>\n",
       "      <td>0.004491</td>\n",
       "      <td>0.000689</td>\n",
       "      <td>0.000398</td>\n",
       "      <td>0.000000</td>\n",
       "      <td>0.002877</td>\n",
       "      <td>1.724726e-07</td>\n",
       "      <td>0.002296</td>\n",
       "      <td>0.002272</td>\n",
       "      <td>0.002198</td>\n",
       "      <td>0.003327</td>\n",
       "      <td>0.000586</td>\n",
       "      <td>0.002231</td>\n",
       "      <td>0.004955</td>\n",
       "      <td>0.004172</td>\n",
       "      <td>0.004170</td>\n",
       "      <td>0.005702</td>\n",
       "      <td>0.000289</td>\n",
       "      <td>0.000774</td>\n",
       "      <td>0.000190</td>\n",
       "      <td>0.003279</td>\n",
       "    </tr>\n",
       "    <tr>\n",
       "      <th>map4</th>\n",
       "      <td>0.001614</td>\n",
       "      <td>0.003566</td>\n",
       "      <td>0.002478</td>\n",
       "      <td>0.002877</td>\n",
       "      <td>0.000000</td>\n",
       "      <td>2.876878e-03</td>\n",
       "      <td>0.005173</td>\n",
       "      <td>0.005149</td>\n",
       "      <td>0.005075</td>\n",
       "      <td>0.000451</td>\n",
       "      <td>0.002291</td>\n",
       "      <td>0.005108</td>\n",
       "      <td>0.002078</td>\n",
       "      <td>0.001295</td>\n",
       "      <td>0.001294</td>\n",
       "      <td>0.002825</td>\n",
       "      <td>0.002588</td>\n",
       "      <td>0.002103</td>\n",
       "      <td>0.003067</td>\n",
       "      <td>0.006156</td>\n",
       "    </tr>\n",
       "  </tbody>\n",
       "</table>\n",
       "</div>"
      ],
      "text/plain": [
       "          map0      map1      map2      map3      map4          map5  \\\n",
       "map0  0.000000  0.005180  0.004092  0.004491  0.001614  4.490696e-03   \n",
       "map1  0.005180  0.000000  0.001087  0.000689  0.003566  6.889872e-04   \n",
       "map2  0.004092  0.001087  0.000000  0.000398  0.002478  3.984811e-04   \n",
       "map3  0.004491  0.000689  0.000398  0.000000  0.002877  1.724726e-07   \n",
       "map4  0.001614  0.003566  0.002478  0.002877  0.000000  2.876878e-03   \n",
       "\n",
       "          map6      map7      map8      map9     map10     map11     map12  \\\n",
       "map0  0.006787  0.006762  0.006689  0.001163  0.003904  0.006722  0.000464   \n",
       "map1  0.001607  0.001583  0.001509  0.004017  0.001275  0.001542  0.005644   \n",
       "map2  0.002695  0.002670  0.002597  0.002929  0.000188  0.002630  0.004557   \n",
       "map3  0.002296  0.002272  0.002198  0.003327  0.000586  0.002231  0.004955   \n",
       "map4  0.005173  0.005149  0.005075  0.000451  0.002291  0.005108  0.002078   \n",
       "\n",
       "         map13     map14     map15     map16     map17     map18     map19  \n",
       "map0  0.000319  0.000320  0.001211  0.004202  0.003717  0.004681  0.007769  \n",
       "map1  0.004861  0.004860  0.006391  0.000978  0.001463  0.000499  0.002590  \n",
       "map2  0.003774  0.003772  0.005303  0.000109  0.000375  0.000588  0.003677  \n",
       "map3  0.004172  0.004170  0.005702  0.000289  0.000774  0.000190  0.003279  \n",
       "map4  0.001295  0.001294  0.002825  0.002588  0.002103  0.003067  0.006156  "
      ]
     },
     "execution_count": 7,
     "metadata": {},
     "output_type": "execute_result"
    }
   ],
   "source": [
    "df_simp = single_df(map_set, simp, 'simp')\n",
    "df_simp.head(5)"
   ]
  },
  {
   "cell_type": "markdown",
   "metadata": {},
   "source": [
    "# Run Shannon's"
   ]
  },
  {
   "cell_type": "code",
   "execution_count": null,
   "metadata": {},
   "outputs": [],
   "source": [
    "shan = []\n",
    "shan_maps1 = []\n",
    "shan_maps2 = []\n",
    "\n",
    "with Pool(16) as pool:\n",
    "    iterable =  [(i, 'shan') for i in range(single_its)]\n",
    "    for n1, n2, sts, sts2 in tqdm.tqdm(pool.istarmap(run_comparisons, iterable),\n",
    "                       total=len(iterable)):\n",
    "        shan_maps1.append(n1)\n",
    "        shan_maps2.append(n2)\n",
    "        shan.append(sts)\n",
    "        if shan_maps1 !=  shan_maps2:\n",
    "            shan.append(sts2)"
   ]
  },
  {
   "cell_type": "markdown",
   "metadata": {},
   "source": [
    "### Shannon's DF"
   ]
  },
  {
   "cell_type": "code",
   "execution_count": null,
   "metadata": {},
   "outputs": [],
   "source": [
    "df_shan = single_df(map_set, shan, 'shannon')\n",
    "df_shan.head(5)"
   ]
  }
 ],
 "metadata": {
  "kernelspec": {
   "display_name": "Python 3",
   "language": "python",
   "name": "python3"
  },
  "language_info": {
   "codemirror_mode": {
    "name": "ipython",
    "version": 3
   },
   "file_extension": ".py",
   "mimetype": "text/x-python",
   "name": "python",
   "nbconvert_exporter": "python",
   "pygments_lexer": "ipython3",
   "version": "3.7.3"
  }
 },
 "nbformat": 4,
 "nbformat_minor": 4
}
